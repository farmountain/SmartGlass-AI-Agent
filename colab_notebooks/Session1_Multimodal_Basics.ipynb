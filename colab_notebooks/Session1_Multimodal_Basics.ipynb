{
  "cells": [
    {
      "cell_type": "markdown",
      "metadata": {
        "id": "view-in-github",
        "colab_type": "text"
      },
      "source": [
        "<a href=\"https://colab.research.google.com/github/farmountain/SmartGlass-AI-Agent/blob/main/colab_notebooks/Session1_Multimodal_Basics.ipynb\" target=\"_parent\"><img src=\"https://colab.research.google.com/assets/colab-badge.svg\" alt=\"Open In Colab\"/></a>"
      ]
    },
    {
      "cell_type": "markdown",
      "metadata": {
        "id": "SWSNNTwa28P6"
      },
      "source": [
        "# 📘 Session 01: Multimodal Basics\n",
        "**Goal:** Build a basic pipeline using Whisper (speech-to-text), CLIP (vision embedding), and GPT-2 (language response).\n",
        "\n",
        "This is the foundation for building an AI agent that can hear, see, and speak on smart glasses like Meta Ray-Ban Wayfarer."
      ]
    },
    {
      "cell_type": "code",
      "execution_count": null,
      "metadata": {
        "id": "UYpGbFgL28QE"
      },
      "outputs": [],
      "source": [
        "# ✅ Install required libraries\n",
        "!pip install -q openai-whisper transformers torchaudio pydub Pillow"
      ]
    },
    {
      "cell_type": "code",
      "source": [
        "# ✅ Install required packages\n",
        "!pip install -q gTTS pydub openai-whisper\n",
        "\n",
        "# ✅ Generate \"Hey Athena\" audio file\n",
        "from gtts import gTTS\n",
        "from pydub import AudioSegment\n",
        "\n",
        "tts = gTTS(\"Hey Athena\", lang='en')\n",
        "tts.save(\"hey_athena.mp3\")\n",
        "\n",
        "sound = AudioSegment.from_file(\"hey_athena.mp3\")\n",
        "sound.export(\"hey_athena.wav\", format=\"wav\")\n"
      ],
      "metadata": {
        "id": "AWXsVR0i5OPm"
      },
      "execution_count": null,
      "outputs": []
    },
    {
      "cell_type": "code",
      "execution_count": null,
      "metadata": {
        "id": "wYvRBkoL28QH"
      },
      "outputs": [],
      "source": [
        "# ✅ Load Whisper and transcribe the generated audio\n",
        "import whisper\n",
        "\n",
        "model = whisper.load_model('base')\n",
        "filename = \"hey_athena.wav\"\n",
        "result = model.transcribe(filename)\n",
        "\n",
        "print(\"🗣️ Transcription:\", result[\"text\"])\n"
      ]
    },
    {
      "cell_type": "code",
      "execution_count": null,
      "metadata": {
        "id": "Mur_J5Qo28QH"
      },
      "outputs": [],
      "source": [
        "# ✅ Load CLIP to describe an image from URL (or local file)\n",
        "from transformers import CLIPProcessor, CLIPModel\n",
        "from PIL import Image\n",
        "import torch\n",
        "import requests\n",
        "\n",
        "# Load CLIP\n",
        "clip_model = CLIPModel.from_pretrained('openai/clip-vit-base-patch32')\n",
        "clip_processor = CLIPProcessor.from_pretrained('openai/clip-vit-base-patch32')\n",
        "\n",
        "# Load image (you can replace URL with a local file path if needed)\n",
        "image_url = \"https://picsum.photos/400\"  # random placeholder image\n",
        "image = Image.open(requests.get(image_url, stream=True).raw)\n",
        "\n",
        "# Define candidate labels\n",
        "texts = [\"a photo of a city street\", \"a photo of a dog\", \"a store front\", \"a person\", \"a mountain\"]\n",
        "\n",
        "# Process inputs\n",
        "inputs = clip_processor(text=texts, images=image, return_tensors=\"pt\", padding=True)\n",
        "outputs = clip_model(**inputs)\n",
        "probs = outputs.logits_per_image.softmax(dim=1)\n",
        "\n",
        "# Print predictions\n",
        "for text, prob in zip(texts, probs[0]):\n",
        "    print(f\"🔍 {text}: {prob.item()*100:.2f}%\")\n",
        "\n",
        "# Get top prediction\n",
        "best_caption = texts[probs[0].argmax().item()]\n"
      ]
    },
    {
      "cell_type": "code",
      "execution_count": null,
      "metadata": {
        "id": "-jT5C4rw28QI"
      },
      "outputs": [],
      "source": [
        "# ✅ GPT-2 generates a reply based on what it saw and heard\n",
        "from transformers import pipeline\n",
        "\n",
        "generator = pipeline(\"text-generation\", model=\"gpt2\")\n",
        "\n",
        "# Use the Whisper result from earlier\n",
        "spoken_text = result[\"text\"]  # Make sure result is from the Whisper block\n",
        "\n",
        "# Construct multimodal prompt\n",
        "prompt = f\"I saw: {best_caption}. I heard: {spoken_text}. What should I say?\"\n",
        "\n",
        "response = generator(prompt, max_length=50, do_sample=True)[0]['generated_text']\n",
        "print(\"🤖 GPT-2 Response:\\n\", response)\n"
      ]
    },
    {
      "cell_type": "markdown",
      "source": [
        "Note: The above GPT2 response is less than satisfactory, however, due to the constraint of Google colab to load even the quantized/knowledge distilled student model of Open AI oss-20b or deepseek v3 model. I have a seperate 18 weeks session Colab Notebook to distilled and quantized the Open AI oss-20b and deepseek v3 model with online GPU A100 cluster. For this session, we just use the GPT-2 for illustration purpose."
      ],
      "metadata": {
        "id": "DaU8VUQu7guD"
      }
    }
  ],
  "metadata": {
    "kernelspec": {
      "display_name": "Python 3",
      "language": "python",
      "name": "python3"
    },
    "language_info": {
      "name": "python",
      "version": "3.x"
    },
    "colab": {
      "provenance": [],
      "include_colab_link": true
    }
  },
  "nbformat": 4,
  "nbformat_minor": 0
}