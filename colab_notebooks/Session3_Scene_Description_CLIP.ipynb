{
  "cells": [
    {
      "cell_type": "markdown",
      "metadata": {
        "id": "view-in-github",
        "colab_type": "text"
      },
      "source": [
        "<a href=\"https://colab.research.google.com/github/farmountain/SmartGlass-AI-Agent/blob/main/colab_notebooks/Session3_Scene_Description_CLIP.ipynb\" target=\"_parent\"><img src=\"https://colab.research.google.com/assets/colab-badge.svg\" alt=\"Open In Colab\"/></a>"
      ]
    },
    {
      "cell_type": "markdown",
      "id": "62752518",
      "metadata": {
        "id": "62752518"
      },
      "source": [
        "# 📷 Week 3: Scene Description with Vision-Language Models\n",
        "In this session, we'll simulate how smart glasses understand the environment by describing the scene using a multimodal transformer (CLIP)."
      ]
    },
    {
      "cell_type": "markdown",
      "id": "a8b6e749",
      "metadata": {
        "id": "a8b6e749"
      },
      "source": [
        "## 🧰 Install Dependencies"
      ]
    },
    {
      "cell_type": "code",
      "execution_count": null,
      "id": "2e00627d",
      "metadata": {
        "id": "2e00627d"
      },
      "outputs": [],
      "source": [
        "!pip install -q transformers Pillow torch"
      ]
    },
    {
      "cell_type": "markdown",
      "id": "cae76551",
      "metadata": {
        "id": "cae76551"
      },
      "source": [
        "## 📤 Upload Image (Simulating Smart Glass Input)"
      ]
    },
    {
      "cell_type": "code",
      "execution_count": null,
      "id": "0fcd4975",
      "metadata": {
        "id": "0fcd4975"
      },
      "outputs": [],
      "source": [
        "from google.colab import files\n",
        "from PIL import Image\n",
        "uploaded = files.upload()\n",
        "image_path = next(iter(uploaded))\n",
        "image = Image.open(image_path).convert('RGB')\n",
        "image.show()"
      ]
    },
    {
      "cell_type": "markdown",
      "id": "b2b9b952",
      "metadata": {
        "id": "b2b9b952"
      },
      "source": [
        "## 🧠 Load CLIP Model and Processor"
      ]
    },
    {
      "cell_type": "code",
      "execution_count": null,
      "id": "b9896082",
      "metadata": {
        "id": "b9896082"
      },
      "outputs": [],
      "source": [
        "from transformers import CLIPProcessor, CLIPModel\n",
        "import torch\n",
        "\n",
        "clip_model = CLIPModel.from_pretrained('openai/clip-vit-base-patch32')\n",
        "clip_processor = CLIPProcessor.from_pretrained('openai/clip-vit-base-patch32')"
      ]
    },
    {
      "cell_type": "markdown",
      "id": "4bde412d",
      "metadata": {
        "id": "4bde412d"
      },
      "source": [
        "## 🔍 Generate Scene Description from Vision Input"
      ]
    },
    {
      "cell_type": "code",
      "execution_count": null,
      "id": "4b7bf394",
      "metadata": {
        "id": "4b7bf394"
      },
      "outputs": [],
      "source": [
        "texts = [\n",
        "    'a photo of a busy city street', 'a person walking', 'a food stall',\n",
        "    'a traffic intersection', 'a shop front', 'a coffee shop', 'a cyclist', 'a car on the road'\n",
        "]\n",
        "inputs = clip_processor(text=texts, images=image, return_tensors='pt', padding=True)\n",
        "outputs = clip_model(**inputs)\n",
        "probs = outputs.logits_per_image.softmax(dim=1)\n",
        "\n",
        "for text, prob in zip(texts, probs[0]):\n",
        "    print(f'🔍 {text}: {prob.item()*100:.2f}%')\n",
        "top_label = texts[probs[0].argmax().item()]\n",
        "print(f'🧠 Top scene description: {top_label}')"
      ]
    },
    {
      "cell_type": "markdown",
      "source": [
        "Note: Try to imaging how the above works in the AI Smart Glass scenario, e.g. with a meta rayband smart glass."
      ],
      "metadata": {
        "id": "XhHFmzp2I0Eb"
      },
      "id": "XhHFmzp2I0Eb"
    }
  ],
  "metadata": {
    "colab": {
      "provenance": [],
      "include_colab_link": true
    },
    "language_info": {
      "name": "python"
    },
    "kernelspec": {
      "name": "python3",
      "display_name": "Python 3"
    }
  },
  "nbformat": 4,
  "nbformat_minor": 5
}