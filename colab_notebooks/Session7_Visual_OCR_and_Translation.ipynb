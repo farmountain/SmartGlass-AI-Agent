{
  "cells": [
    {
      "cell_type": "markdown",
      "metadata": {
        "id": "view-in-github",
        "colab_type": "text"
      },
      "source": [
        "<a href=\"https://colab.research.google.com/github/farmountain/SmartGlass-AI-Agent/blob/main/colab_notebooks/Session7_Visual_OCR_and_Translation.ipynb\" target=\"_parent\"><img src=\"https://colab.research.google.com/assets/colab-badge.svg\" alt=\"Open In Colab\"/></a>"
      ]
    },
    {
      "cell_type": "markdown",
      "id": "ea5a889a",
      "metadata": {
        "id": "ea5a889a"
      },
      "source": [
        "# 📘 Session 07: Visual OCR and Translation\n",
        "In this session, we'll simulate a smart glasses view to:\n",
        "- Extract text from images using Tesseract OCR\n",
        "- Translate it into another language using HuggingFace MarianMT"
      ]
    },
    {
      "cell_type": "code",
      "execution_count": null,
      "id": "ebb44f19",
      "metadata": {
        "id": "ebb44f19"
      },
      "outputs": [],
      "source": [
        "# ✅ Install Required Packages\n",
        "!apt install tesseract-ocr -y\n",
        "!pip install -q pytesseract transformers Pillow"
      ]
    },
    {
      "cell_type": "code",
      "execution_count": null,
      "id": "ac379ad3",
      "metadata": {
        "id": "ac379ad3"
      },
      "outputs": [],
      "source": [
        "# ✅ Load Image and Perform OCR\n",
        "import pytesseract\n",
        "from PIL import Image\n",
        "from google.colab import files\n",
        "\n",
        "uploaded = files.upload()\n",
        "image_path = next(iter(uploaded))\n",
        "image = Image.open(image_path)\n",
        "\n",
        "# OCR\n",
        "extracted_text = pytesseract.image_to_string(image)\n",
        "print('🧾 OCR Extracted Text:\\n', extracted_text)"
      ]
    },
    {
      "cell_type": "code",
      "execution_count": null,
      "id": "7fc7fa4a",
      "metadata": {
        "id": "7fc7fa4a"
      },
      "outputs": [],
      "source": [
        "# ✅ Translate Using MarianMT\n",
        "from transformers import MarianMTModel, MarianTokenizer\n",
        "\n",
        "src_lang = 'fr'  # Assume the text is in French for demo\n",
        "trg_lang = 'en'\n",
        "model_name = f'Helsinki-NLP/opus-mt-{src_lang}-{trg_lang}'\n",
        "\n",
        "# Load model and tokenizer\n",
        "model = MarianMTModel.from_pretrained(model_name)\n",
        "tokenizer = MarianTokenizer.from_pretrained(model_name)\n",
        "\n",
        "# Tokenize and translate\n",
        "batch = tokenizer([extracted_text], return_tensors=\"pt\", padding=True)\n",
        "translated = model.generate(**batch)\n",
        "translated_text = tokenizer.decode(translated[0], skip_special_tokens=True)\n",
        "print(\"🌐 Translated Text:\\n\", translated_text)"
      ]
    },
    {
      "cell_type": "code",
      "execution_count": null,
      "id": "353ae80c",
      "metadata": {
        "id": "353ae80c"
      },
      "outputs": [],
      "source": [
        "# ✅ Summary\n",
        "print(\"👓 Smart Glasses OCR-to-Translation complete!\")"
      ]
    }
  ],
  "metadata": {
    "colab": {
      "provenance": [],
      "include_colab_link": true
    },
    "language_info": {
      "name": "python"
    },
    "kernelspec": {
      "name": "python3",
      "display_name": "Python 3"
    }
  },
  "nbformat": 4,
  "nbformat_minor": 5
}