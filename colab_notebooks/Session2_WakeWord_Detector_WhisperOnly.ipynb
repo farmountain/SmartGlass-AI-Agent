{
  "cells": [
    {
      "cell_type": "markdown",
      "metadata": {
        "id": "view-in-github",
        "colab_type": "text"
      },
      "source": [
        "<a href=\"https://colab.research.google.com/github/farmountain/SmartGlass-AI-Agent/blob/main/colab_notebooks/Session2_WakeWord_Detector_WhisperOnly.ipynb\" target=\"_parent\"><img src=\"https://colab.research.google.com/assets/colab-badge.svg\" alt=\"Open In Colab\"/></a>"
      ]
    },
    {
      "cell_type": "markdown",
      "id": "fe965251",
      "metadata": {
        "id": "fe965251"
      },
      "source": [
        "# 📘 Session 02: Wake Word Detection with Whisper\n",
        "\n",
        "In this session, we will simulate wake word detection (e.g., \"Hey Athena\") using OpenAI's Whisper model. This mimics how smart glasses might listen passively for a voice trigger.\n"
      ]
    },
    {
      "cell_type": "code",
      "execution_count": null,
      "id": "480965b5",
      "metadata": {
        "id": "480965b5"
      },
      "outputs": [],
      "source": [
        "!pip install -q openai-whisper pydub gTTS torchaudio\n"
      ]
    },
    {
      "cell_type": "markdown",
      "id": "c464c7af",
      "metadata": {
        "id": "c464c7af"
      },
      "source": [
        "## 🎙️ Generate Sample Wake Word Audio"
      ]
    },
    {
      "cell_type": "code",
      "execution_count": null,
      "id": "ea72db09",
      "metadata": {
        "id": "ea72db09"
      },
      "outputs": [],
      "source": [
        "from gtts import gTTS\n",
        "from pydub import AudioSegment\n",
        "\n",
        "# Generate wake word and a normal question\n",
        "gTTS(\"Hey Athena\", lang=\"en\").save(\"hey_athena.mp3\")\n",
        "gTTS(\"What's the weather today?\", lang=\"en\").save(\"question.mp3\")\n",
        "\n",
        "# Convert to WAV format\n",
        "AudioSegment.from_file(\"hey_athena.mp3\").export(\"hey_athena.wav\", format=\"wav\")\n",
        "AudioSegment.from_file(\"question.mp3\").export(\"question.wav\", format=\"wav\")\n"
      ]
    },
    {
      "cell_type": "markdown",
      "id": "9390e41d",
      "metadata": {
        "id": "9390e41d"
      },
      "source": [
        "## 🧠 Transcribe Audio with Whisper"
      ]
    },
    {
      "cell_type": "code",
      "execution_count": null,
      "id": "79eab510",
      "metadata": {
        "id": "79eab510"
      },
      "outputs": [],
      "source": [
        "import whisper\n",
        "model = whisper.load_model(\"base\")\n",
        "\n",
        "def transcribe_and_print(file):\n",
        "    result = model.transcribe(file)\n",
        "    print(f\"🔊 {file} →\", result[\"text\"])\n",
        "    return result[\"text\"].lower()\n",
        "\n",
        "text1 = transcribe_and_print(\"hey_athena.wav\")\n",
        "text2 = transcribe_and_print(\"question.wav\")\n"
      ]
    },
    {
      "cell_type": "markdown",
      "id": "0b8b6c84",
      "metadata": {
        "id": "0b8b6c84"
      },
      "source": [
        "## 🚨 Wake Word Detection"
      ]
    },
    {
      "cell_type": "code",
      "execution_count": null,
      "id": "f86991cf",
      "metadata": {
        "id": "f86991cf"
      },
      "outputs": [],
      "source": [
        "def detect_wake_word(transcription, wake_word=\"hey athena\"):\n",
        "    return wake_word in transcription\n",
        "\n",
        "if detect_wake_word(text1):\n",
        "    print(\"✅ Wake word detected in 'hey_athena.wav'\")\n",
        "else:\n",
        "    print(\"❌ Wake word NOT detected in 'hey_athena.wav'\")\n",
        "\n",
        "if detect_wake_word(text2):\n",
        "    print(\"✅ Wake word detected in 'question.wav'\")\n",
        "else:\n",
        "    print(\"❌ Wake word NOT detected in 'question.wav'\")\n"
      ]
    },
    {
      "cell_type": "markdown",
      "id": "db8281b5",
      "metadata": {
        "id": "db8281b5"
      },
      "source": [
        "## 🧩 Extension: Trigger Assistant (Placeholder)"
      ]
    },
    {
      "cell_type": "code",
      "execution_count": null,
      "id": "fdc8eb41",
      "metadata": {
        "id": "fdc8eb41"
      },
      "outputs": [],
      "source": [
        "def trigger_assistant():\n",
        "    print(\"✨ Launching AI assistant... (To be implemented in Session 3)\")\n",
        "\n",
        "# Simulate\n",
        "if detect_wake_word(text1):\n",
        "    trigger_assistant()\n"
      ]
    }
  ],
  "metadata": {
    "colab": {
      "provenance": [],
      "include_colab_link": true
    },
    "language_info": {
      "name": "python"
    },
    "kernelspec": {
      "name": "python3",
      "display_name": "Python 3"
    }
  },
  "nbformat": 4,
  "nbformat_minor": 5
}