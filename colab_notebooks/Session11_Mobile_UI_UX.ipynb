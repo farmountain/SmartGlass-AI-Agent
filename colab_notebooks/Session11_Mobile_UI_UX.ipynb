{
  "cells": [
    {
      "cell_type": "markdown",
      "metadata": {
        "id": "view-in-github",
        "colab_type": "text"
      },
      "source": [
        "<a href=\"https://colab.research.google.com/github/farmountain/SmartGlass-AI-Agent/blob/main/colab_notebooks/Session11_Mobile_UI_UX.ipynb\" target=\"_parent\"><img src=\"https://colab.research.google.com/assets/colab-badge.svg\" alt=\"Open In Colab\"/></a>"
      ]
    },
    {
      "cell_type": "markdown",
      "id": "e33f9ec6",
      "metadata": {
        "id": "e33f9ec6"
      },
      "source": [
        "# 📱 Session 11: Mobile UI/UX Considerations for Smart Glasses"
      ]
    },
    {
      "cell_type": "markdown",
      "id": "8b0b1220",
      "metadata": {
        "id": "8b0b1220"
      },
      "source": [
        "\n",
        "In this session, we focus on the principles and practical implementation of mobile-first UI/UX design tailored for **smart glasses**, considering the limitations of small display, voice-first interactions, gesture controls, and minimal attention span.\n",
        "\n",
        "We'll also simulate **responsive feedback mechanisms**, **touchless controls**, and **multi-modal prompts**.\n"
      ]
    },
    {
      "cell_type": "code",
      "execution_count": null,
      "id": "a95fcab2",
      "metadata": {
        "id": "a95fcab2"
      },
      "outputs": [],
      "source": [
        "# ✅ Install compatible versions (use numpy>=1.26 for Python 3.12)\n",
        "!pip install numpy==1.26.0 gradio==4.20.0 gtts==2.5.1 --no-cache-dir\n",
        "\n",
        "import gradio as gr\n",
        "from gtts import gTTS\n",
        "from IPython.display import Audio\n",
        "\n"
      ]
    },
    {
      "cell_type": "code",
      "execution_count": 2,
      "id": "2a4dbe3b",
      "metadata": {
        "colab": {
          "base_uri": "https://localhost:8080/"
        },
        "id": "2a4dbe3b",
        "outputId": "821115be-b8a8-42d1-9da2-c22763b907e9"
      },
      "outputs": [
        {
          "output_type": "stream",
          "name": "stdout",
          "text": [
            "Keyboard interruption in main thread... closing server.\n",
            "Killing tunnel 127.0.0.1:7860 <> https://df297d4d3183787af3.gradio.live\n"
          ]
        },
        {
          "output_type": "execute_result",
          "data": {
            "text/plain": []
          },
          "metadata": {},
          "execution_count": 2
        }
      ],
      "source": [
        "\n",
        "# 🧪 Simulate smart glass UI/UX layout\n",
        "def simulate_voice_command(text):\n",
        "    tts = gTTS(text, lang='en')\n",
        "    tts.save(\"response.mp3\")\n",
        "    return \"response.mp3\"\n",
        "\n",
        "with gr.Blocks() as smartglass_ui:\n",
        "    gr.Markdown(\"### 🕶️ SmartGlass Voice Interaction UI\")\n",
        "    user_input = gr.Textbox(label=\"Say something (simulate voice input)...\")\n",
        "    speak_button = gr.Button(\"🎙️ Simulate Voice Response\")\n",
        "    audio_output = gr.Audio(label=\"AI Response\")\n",
        "\n",
        "    speak_button.click(fn=simulate_voice_command, inputs=user_input, outputs=audio_output)\n",
        "\n",
        "smartglass_ui.launch(debug=True)\n"
      ]
    },
    {
      "cell_type": "markdown",
      "id": "48af6409",
      "metadata": {
        "id": "48af6409"
      },
      "source": [
        "\n",
        "## ✅ Smart Glasses UX Guidelines\n",
        "\n",
        "- **Minimal Visual Distraction**: Only show key info at a glance.\n",
        "- **Voice-First**: Always provide audio responses.\n",
        "- **Touchless Interaction**: Use voice or gesture as primary input.\n",
        "- **Battery Friendly**: Minimize animations and compute-heavy tasks.\n",
        "- **Context Awareness**: Dynamically adjust UI based on user's activity.\n"
      ]
    },
    {
      "cell_type": "code",
      "execution_count": 3,
      "id": "e72c7963",
      "metadata": {
        "colab": {
          "base_uri": "https://localhost:8080/",
          "height": 75
        },
        "id": "e72c7963",
        "outputId": "3041f64b-9877-484f-a4ad-5ca82f918e1e"
      },
      "outputs": [
        {
          "output_type": "execute_result",
          "data": {
            "text/plain": [
              "<IPython.lib.display.Audio object>"
            ],
            "text/html": [
              "\n",
              "                <audio  controls=\"controls\" >\n",
              "                    <source src=\"data:audio/mpeg;base64,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\" type=\"audio/mpeg\" />\n",
              "                    Your browser does not support the audio element.\n",
              "                </audio>\n",
              "              "
            ]
          },
          "metadata": {},
          "execution_count": 3
        }
      ],
      "source": [
        "\n",
        "# 🎯 Design Prompt: You are walking and say “What’s this building?”\n",
        "simulate_voice_command(\"That's the Singapore National Gallery.\")\n",
        "Audio(\"response.mp3\")\n"
      ]
    },
    {
      "cell_type": "markdown",
      "id": "021063ba",
      "metadata": {
        "id": "021063ba"
      },
      "source": [
        "\n",
        "## 📌 Summary\n",
        "\n",
        "This session shows how to simulate a **voice-first interface** for smart glasses using **Gradio** and **text-to-speech**. Future sessions will expand with camera input and gesture control.\n"
      ]
    }
  ],
  "metadata": {
    "colab": {
      "provenance": [],
      "include_colab_link": true
    },
    "language_info": {
      "name": "python"
    },
    "kernelspec": {
      "name": "python3",
      "display_name": "Python 3"
    }
  },
  "nbformat": 4,
  "nbformat_minor": 5
}