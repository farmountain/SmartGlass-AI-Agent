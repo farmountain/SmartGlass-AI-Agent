{
  "cells": [
    {
      "cell_type": "markdown",
      "metadata": {
        "id": "view-in-github",
        "colab_type": "text"
      },
      "source": [
        "<a href=\"https://colab.research.google.com/github/farmountain/SmartGlass-AI-Agent/blob/main/Session1_Multimodal_Basics.ipynb\" target=\"_parent\"><img src=\"https://colab.research.google.com/assets/colab-badge.svg\" alt=\"Open In Colab\"/></a>"
      ]
    },
    {
      "cell_type": "markdown",
      "metadata": {
        "id": "SWSNNTwa28P6"
      },
      "source": [
        "# 📘 Session 01: Multimodal Basics\n",
        "**Goal:** Build a basic pipeline using Whisper (speech-to-text), CLIP (vision embedding), and GPT-2 (language response).\n",
        "\n",
        "This is the foundation for building an AI agent that can hear, see, and speak on smart glasses like Meta Ray-Ban Wayfarer."
      ]
    },
    {
      "cell_type": "code",
      "execution_count": 1,
      "metadata": {
        "colab": {
          "base_uri": "https://localhost:8080/"
        },
        "id": "UYpGbFgL28QE",
        "outputId": "d7271f52-7d68-43c3-c379-0cb7b2a40402"
      },
      "outputs": [
        {
          "output_type": "stream",
          "name": "stdout",
          "text": [
            "\u001b[?25l     \u001b[90m━━━━━━━━━━━━━━━━━━━━━━━━━━━━━━━━━━━━━━━━\u001b[0m \u001b[32m0.0/803.2 kB\u001b[0m \u001b[31m?\u001b[0m eta \u001b[36m-:--:--\u001b[0m\r\u001b[2K     \u001b[91m━━━━━━━━━━━━━━━━━━━━━━━━━━━━━━━━━━━━━\u001b[0m\u001b[91m╸\u001b[0m \u001b[32m798.7/803.2 kB\u001b[0m \u001b[31m23.5 MB/s\u001b[0m eta \u001b[36m0:00:01\u001b[0m\r\u001b[2K     \u001b[90m━━━━━━━━━━━━━━━━━━━━━━━━━━━━━━━━━━━━━━\u001b[0m \u001b[32m803.2/803.2 kB\u001b[0m \u001b[31m12.6 MB/s\u001b[0m eta \u001b[36m0:00:00\u001b[0m\n",
            "\u001b[?25h  Installing build dependencies ... \u001b[?25l\u001b[?25hdone\n",
            "  Getting requirements to build wheel ... \u001b[?25l\u001b[?25hdone\n",
            "  Preparing metadata (pyproject.toml) ... \u001b[?25l\u001b[?25hdone\n",
            "  Building wheel for openai-whisper (pyproject.toml) ... \u001b[?25l\u001b[?25hdone\n"
          ]
        }
      ],
      "source": [
        "# ✅ Install required libraries\n",
        "!pip install -q openai-whisper transformers torchaudio pydub Pillow"
      ]
    },
    {
      "cell_type": "code",
      "execution_count": null,
      "metadata": {
        "colab": {
          "base_uri": "https://localhost:8080/"
        },
        "id": "wYvRBkoL28QH",
        "outputId": "99876840-0d9a-4e23-d531-7a69582e264e"
      },
      "outputs": [
        {
          "output_type": "stream",
          "name": "stderr",
          "text": [
            "100%|████████████████████████████████████████| 139M/139M [00:01<00:00, 141MiB/s]\n"
          ]
        }
      ],
      "source": [
        "# ✅ Load Whisper for audio-to-text\n",
        "import whisper\n",
        "model = whisper.load_model('base')\n",
        "# Upload audio file (simulate smart glasses mic)\n",
        "from google.colab import files\n",
        "uploaded = files.upload()\n",
        "filename = next(iter(uploaded))\n",
        "result = model.transcribe(filename)\n",
        "print('🗣️ Transcription:', result['text'])"
      ]
    },
    {
      "cell_type": "code",
      "execution_count": null,
      "metadata": {
        "id": "Mur_J5Qo28QH"
      },
      "outputs": [],
      "source": [
        "# ✅ Load CLIP to describe uploaded image\n",
        "from transformers import CLIPProcessor, CLIPModel\n",
        "from PIL import Image\n",
        "import torch\n",
        "import requests\n",
        "\n",
        "clip_model = CLIPModel.from_pretrained('openai/clip-vit-base-patch32')\n",
        "clip_processor = CLIPProcessor.from_pretrained('openai/clip-vit-base-patch32')\n",
        "\n",
        "image_path = files.upload()\n",
        "image = Image.open(next(iter(image_path)))\n",
        "texts = [\"a photo of a city street\", \"a photo of a dog\", \"a store front\", \"a person\", \"a mountain\"]\n",
        "inputs = clip_processor(text=texts, images=image, return_tensors=\"pt\", padding=True)\n",
        "outputs = clip_model(**inputs)\n",
        "probs = outputs.logits_per_image.softmax(dim=1)\n",
        "for text, prob in zip(texts, probs[0]):\n",
        "    print(f\"🔍 {text}: {prob.item()*100:.2f}%\")"
      ]
    },
    {
      "cell_type": "code",
      "execution_count": null,
      "metadata": {
        "id": "-jT5C4rw28QI"
      },
      "outputs": [],
      "source": [
        "# ✅ GPT-2 generates a reply based on what it saw and heard\n",
        "from transformers import pipeline\n",
        "generator = pipeline(\"text-generation\", model=\"gpt2\")\n",
        "prompt = f\"I saw: {texts[probs[0].argmax().item()]}. I heard: {result['text']}. What should I say?\"\n",
        "response = generator(prompt, max_length=50, do_sample=True)[0]['generated_text']\n",
        "print(\"🤖 GPT-2 Response:\\n\", response)"
      ]
    }
  ],
  "metadata": {
    "kernelspec": {
      "display_name": "Python 3",
      "language": "python",
      "name": "python3"
    },
    "language_info": {
      "name": "python",
      "version": "3.x"
    },
    "colab": {
      "provenance": [],
      "include_colab_link": true
    }
  },
  "nbformat": 4,
  "nbformat_minor": 0
}